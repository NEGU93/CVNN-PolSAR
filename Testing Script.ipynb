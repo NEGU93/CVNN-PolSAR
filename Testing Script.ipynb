{
 "cells": [
  {
   "cell_type": "code",
   "execution_count": 1,
   "metadata": {},
   "outputs": [],
   "source": [
    "from gilles_signals import load_gilles_mat_data\n",
    "import cvnn.data_processing as dp\n",
    "\n",
    "data_2chirps = \"data_cnn1d.mat\"\n",
    "data_all_classes = \"data_cnn1dC.mat\"\n",
    "data_2chirps_test = \"data_cnn1dT.mat\"\n",
    "\n",
    "data_name = data_2chirps_test\n",
    "# gets data\n",
    "ic, nb_sig, sx, types, xp, xx = load_gilles_mat_data(data_name)\n",
    "cat_ic = dp.sparse_into_categorical(ic, num_classes=len(types))  # TODO: make sparse crossentropy test\n",
    "x_train, y_train, x_test, y_test = dp.separate_into_train_and_test(xx, cat_ic, pre_rand=True)"
   ]
  },
  {
   "cell_type": "code",
   "execution_count": 10,
   "metadata": {},
   "outputs": [],
   "source": [
    "import cvnn.layers as layers\n",
    "\n",
    "# Hyper-parameters\n",
    "input_size = x_train.shape[1]  # Size of input\n",
    "output_size = y_train.shape[1]  # Size of output\n",
    "h1_size = 25\n",
    "h2_size = 10\n",
    "shape = [layers.Dense(input_size=input_size, output_size=h1_size, activation='cart_sigmoid',\n",
    "                          input_dtype=np.complex64, output_dtype=np.complex64),\n",
    "             layers.Dense(input_size=h1_size, output_size=h2_size, activation='cart_sigmoid',\n",
    "                          input_dtype=np.complex64, output_dtype=np.complex64),\n",
    "             layers.Dense(input_size=h2_size, output_size=output_size, activation='cart_softmax_real',\n",
    "                          input_dtype=np.complex64, output_dtype=np.float32)]"
   ]
  },
  {
   "cell_type": "code",
   "execution_count": 12,
   "metadata": {},
   "outputs": [
    {
     "name": "stdout",
     "output_type": "stream",
     "text": [
      "Starting training...\n",
      "Epoch: 0/10; batch 0/16; loss: 0.6737 accuracy: 98.00 %\n"
     ]
    }
   ],
   "source": [
    "import cvnn.cvnn_model as cvnnv2\n",
    "import tensorflow as tf\n",
    "\n",
    "name = \"gilles_net_complex\"\n",
    "epochs = 10\n",
    "\n",
    "mlp = cvnnv2.CvnnModel(name, shape, tf.keras.losses.categorical_crossentropy, display_freq=1000)\n",
    "mlp.fit(x_train.astype(np.complex64), y_train, epochs=epochs, batch_size=100)"
   ]
  },
  {
   "cell_type": "code",
   "execution_count": 5,
   "metadata": {},
   "outputs": [
    {
     "name": "stdout",
     "output_type": "stream",
     "text": [
      "Class 0: mu = 83; sigma = 12.480411932551394\n",
      "Class 1: mu = 99; sigma = 2.4110388295254643\n",
      "(0.7373326, 0.4375)\n",
      "Starting training...\n",
      "Epoch: 0/10; batch 0/16; loss: 0.7046 accuracy: 58.00 %\n",
      "Epoch: 1/10; batch 0/16; loss: 0.6654 accuracy: 65.00 %\n",
      "Epoch: 2/10; batch 0/16; loss: 0.6457 accuracy: 66.00 %\n",
      "Epoch: 3/10; batch 0/16; loss: 0.6275 accuracy: 86.00 %\n",
      "Epoch: 4/10; batch 0/16; loss: 0.5922 accuracy: 90.00 %\n",
      "Epoch: 5/10; batch 0/16; loss: 0.5712 accuracy: 95.00 %\n",
      "Epoch: 6/10; batch 0/16; loss: 0.5558 accuracy: 100.00 %\n",
      "Epoch: 7/10; batch 0/16; loss: 0.5501 accuracy: 100.00 %\n",
      "Epoch: 8/10; batch 0/16; loss: 0.5392 accuracy: 98.00 %\n",
      "Epoch: 9/10; batch 0/16; loss: 0.5263 accuracy: 100.00 %\n",
      "(0.51063037, 0.995)\n"
     ]
    }
   ],
   "source": [
    "import numpy as np\n",
    "# monte_carlo_loss_gaussian_noise(iterations=100, filename=\"historgram_gaussian.csv\")\n",
    "m = 1000\n",
    "n = 100\n",
    "num_classes = 2\n",
    "x_train, y_train, x_test, y_test = dp.get_gaussian_noise(m, n, num_classes, 'hilbert')\n",
    "\n",
    "input_size = np.shape(x_train)[1]\n",
    "hidden_size = 10\n",
    "output_size = np.shape(y_train)[1]\n",
    "\n",
    "shape = [layers.Dense(input_size=input_size, output_size=hidden_size, activation='cart_sigmoid',\n",
    "                          input_dtype=np.complex64, output_dtype=np.complex64),\n",
    "             layers.Dense(input_size=hidden_size, output_size=output_size, activation='cart_softmax_real',\n",
    "                          input_dtype=np.complex64, output_dtype=np.float32)]\n",
    "model = cvnnv2.CvnnModel(\"Testing CVNN\", shape, tf.keras.losses.categorical_crossentropy)\n",
    "print(model.evaluate(x_test.astype(np.complex64), y_test))\n",
    "model.fit(x_train.astype(np.complex64), y_train, learning_rate=0.1, batch_size=100, epochs=10, normal=True)\n",
    "print(model.evaluate(x_test.astype(np.complex64), y_test))"
   ]
  },
  {
   "cell_type": "code",
   "execution_count": null,
   "metadata": {},
   "outputs": [],
   "source": []
  }
 ],
 "metadata": {
  "kernelspec": {
   "display_name": "Python 3",
   "language": "python",
   "name": "python3"
  },
  "language_info": {
   "codemirror_mode": {
    "name": "ipython",
    "version": 3
   },
   "file_extension": ".py",
   "mimetype": "text/x-python",
   "name": "python",
   "nbconvert_exporter": "python",
   "pygments_lexer": "ipython3",
   "version": "3.7.6"
  }
 },
 "nbformat": 4,
 "nbformat_minor": 2
}
